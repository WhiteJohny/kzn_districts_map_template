{
  "cells": [
    {
      "cell_type": "code",
      "execution_count": null,
      "id": "642d19be-bf83-457b-9c3c-b0a086647250",
      "metadata": {
        "id": "642d19be-bf83-457b-9c3c-b0a086647250"
      },
      "outputs": [],
      "source": [
        "import pandas as pd\n",
        "from map_renderer import MapRenderer"
      ]
    },
    {
      "cell_type": "markdown",
      "id": "535eecb0-5d7b-4bce-9d46-89edc41e888b",
      "metadata": {
        "id": "535eecb0-5d7b-4bce-9d46-89edc41e888b"
      },
      "source": [
        "Вместо многоточия ниже подставьте путь к своему .csv-файлу"
      ]
    },
    {
      "cell_type": "code",
      "execution_count": null,
      "id": "b75df7c8-032e-4fc4-b454-e6c60144ea4c",
      "metadata": {
        "id": "b75df7c8-032e-4fc4-b454-e6c60144ea4c"
      },
      "outputs": [],
      "source": [
        "points_df = pd.read_csv(\"points.csv\")\n",
        "districts_df = pd.read_csv(\"data.csv\")"
      ]
    },
    {
      "cell_type": "code",
      "execution_count": null,
      "id": "2a2f356f-7a1d-4e63-a394-55b046ddf584",
      "metadata": {
        "id": "2a2f356f-7a1d-4e63-a394-55b046ddf584"
      },
      "outputs": [],
      "source": [
        "districts_df"
      ]
    },
    {
      "cell_type": "code",
      "execution_count": null,
      "id": "144f548b-7f96-48bb-9225-29ecd2f057f9",
      "metadata": {
        "id": "144f548b-7f96-48bb-9225-29ecd2f057f9"
      },
      "outputs": [],
      "source": [
        "renderer = MapRenderer(districts_df, points_df)"
      ]
    },
    {
      "cell_type": "code",
      "execution_count": null,
      "id": "757d5fe5-4239-41a4-b41d-794fe7ffabb9",
      "metadata": {
        "id": "757d5fe5-4239-41a4-b41d-794fe7ffabb9"
      },
      "outputs": [],
      "source": [
        "renderer.get_map()"
      ]
    }
  ],
  "metadata": {
    "kernelspec": {
      "display_name": "Python 3 (ipykernel)",
      "language": "python",
      "name": "python3"
    },
    "language_info": {
      "codemirror_mode": {
        "name": "ipython",
        "version": 3
      },
      "file_extension": ".py",
      "mimetype": "text/x-python",
      "name": "python",
      "nbconvert_exporter": "python",
      "pygments_lexer": "ipython3",
      "version": "3.11.7"
    },
    "colab": {
      "provenance": []
    }
  },
  "nbformat": 4,
  "nbformat_minor": 5
}